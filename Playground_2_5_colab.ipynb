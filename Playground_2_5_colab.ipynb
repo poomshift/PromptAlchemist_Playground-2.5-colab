{
  "nbformat": 4,
  "nbformat_minor": 0,
  "metadata": {
    "colab": {
      "provenance": [],
      "gpuType": "T4",
      "authorship_tag": "ABX9TyMDj6fEh16e4o3WRuwLwJLz",
      "include_colab_link": true
    },
    "kernelspec": {
      "name": "python3",
      "display_name": "Python 3"
    },
    "language_info": {
      "name": "python"
    },
    "accelerator": "GPU"
  },
  "cells": [
    {
      "cell_type": "markdown",
      "metadata": {
        "id": "view-in-github",
        "colab_type": "text"
      },
      "source": [
        "<a href=\"https://colab.research.google.com/github/poomshift/PromptAlchemist_Playground-2.5-colab/blob/main/Playground_2_5_colab.ipynb\" target=\"_parent\"><img src=\"https://colab.research.google.com/assets/colab-badge.svg\" alt=\"Open In Colab\"/></a>"
      ]
    },
    {
      "cell_type": "markdown",
      "source": [
        "Colab Notebook นี้สร้างเพื่อใช้งาน Playground v2.5 – 1024px Aesthetic Model\n",
        "\n",
        "Playground v2.5 เป็น Diffusers model พัฒนาโดย Playground เน้นความสวยงามโดยเฉพาะ\n",
        "\n",
        "อ่านเพิ่มเติมที่ https://huggingface.co/playgroundai/playground-v2.5-1024px-aesthetic\n",
        "\n",
        "ติดตามอัพเดทเกี่ยวกับเทคโนโลยี Ai ที่ [Facebook/promptalchemist](https://facebook.com/PromptAlchemist)\n",
        "\n",
        "Colab สำหรับ Stable Diffusion WebUI [>>คลิก<<](https://colab.research.google.com/github/poomshift/PromptAlchemist_SD_Webui_Colab/blob/main/PromptAlchemist_SD_Webui_Colab.ipynb#scrollTo=1F-zYI2-Uo0a)"
      ],
      "metadata": {
        "id": "wjVorMhAMTzG"
      }
    },
    {
      "cell_type": "code",
      "source": [
        "#@markdown # 1. ติดตั้ง Dependencies ก่อน\n",
        "from IPython.display import clear_output\n",
        "from IPython.display import Javascript\n",
        "import ipywidgets as widgets\n",
        "display(Javascript('''google.colab.output.setIframeHeight(0, true, {maxHeight: 200})'''))\n",
        "def inf(msg, style, wdth): inf = widgets.Button(description=msg, disabled=True, button_style=style, layout=widgets.Layout(min_width=wdth));display(inf)\n",
        "\n",
        "%env TF_CPP_MIN_LOG_LEVEL=1\n",
        "!wget https://github.com/camenduru/gperftools/releases/download/v1.0/libtcmalloc_minimal.so.4 -O /content/libtcmalloc_minimal.so.4\n",
        "%env LD_PRELOAD=/content/libtcmalloc_minimal.so.4\n",
        "\n",
        "!pip install git+https://github.com/huggingface/diffusers.git\n",
        "!pip install transformers accelerate safetensors gradio\n",
        "\n",
        "clear_output()\n",
        "inf('\\u2714 Done','success', '50px')"
      ],
      "metadata": {
        "cellView": "form",
        "id": "czwS74Lj_1gm"
      },
      "execution_count": null,
      "outputs": []
    },
    {
      "cell_type": "code",
      "source": [
        "#@markdown # 2. Run โปรแกรม\n",
        "import gradio as gr\n",
        "from diffusers import DiffusionPipeline\n",
        "import torch\n",
        "\n",
        "from IPython.display import clear_output\n",
        "from IPython.display import Javascript\n",
        "display(Javascript('''google.colab.output.setIframeHeight(0, true, {maxHeight: 1000})'''))\n",
        "\n",
        "# Load the model (adjust the paths if needed)\n",
        "pipe = DiffusionPipeline.from_pretrained(\n",
        "    \"playgroundai/playground-v2.5-1024px-aesthetic\",\n",
        "    torch_dtype=torch.float16,\n",
        "    variant=\"fp16\",\n",
        ").to(\"cuda\")\n",
        "\n",
        "# Optional: Use DPM++ 2M Karras scheduler\n",
        "from diffusers import EDMDPMSolverMultistepScheduler\n",
        "pipe.scheduler = EDMDPMSolverMultistepScheduler()\n",
        "clear_output()\n",
        "\n",
        "def generate_image(prompt, num_inference_steps=50, guidance_scale=3, width=512, height=512):\n",
        "    image = pipe(\n",
        "        prompt=prompt,\n",
        "        num_inference_steps=num_inference_steps,\n",
        "        guidance_scale=guidance_scale,\n",
        "        width=width,\n",
        "        height=height\n",
        "    ).images[0]\n",
        "    return image\n",
        "\n",
        "# Gradio interface\n",
        "iface = gr.Interface(\n",
        "    fn=generate_image,\n",
        "    inputs=[\n",
        "        gr.Textbox(lines=2, placeholder=\"Enter your prompt here...\"),\n",
        "        gr.Slider(0, 100, value=50, label=\"Inference Steps\"),\n",
        "        gr.Slider(0, 10, value=3, label=\"Guidance Scale\"),\n",
        "        gr.Number(value=1024, label=\"Width\"),\n",
        "        gr.Number(value=1024, label=\"Height\"),\n",
        "    ],\n",
        "    outputs=gr.Image(),  # Using gr.Image() for better display\n",
        "\n",
        "title=\"Playground 2.5 Colab | facebook.com/PromptAlchemist\",\n",
        "description=\"ขนาดภาพที่แนะนำ 1024x1024 | 720x1280 | 1280x720\"\n",
        ")\n",
        "\n",
        "iface.launch()"
      ],
      "metadata": {
        "cellView": "form",
        "id": "I7TfQWNSKAEk"
      },
      "execution_count": null,
      "outputs": []
    }
  ]
}